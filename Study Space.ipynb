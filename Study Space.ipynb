{
 "cells": [
  {
   "cell_type": "code",
   "execution_count": 2,
   "id": "5f4db060-45ad-4fac-b154-b10eb6b64c20",
   "metadata": {},
   "outputs": [],
   "source": [
    "import numpy as np"
   ]
  },
  {
   "cell_type": "code",
   "execution_count": 8,
   "id": "5b579ca5-e63c-4ab7-9cb8-db498b1c2b25",
   "metadata": {},
   "outputs": [
    {
     "data": {
      "text/plain": [
       "array([23.67125363, 27.44059917, 21.91358025, 25.71219869])"
      ]
     },
     "execution_count": 8,
     "metadata": {},
     "output_type": "execute_result"
    }
   ],
   "source": [
    "height = [1.78,1.76,1.80,1.85]\n",
    "np_height = np.array(height)\n",
    "weight = [75,85,71,88]\n",
    "np_weight = np.array(weight)\n",
    "bmi = np_weight/np_height**2\n",
    "bmi"
   ]
  },
  {
   "cell_type": "code",
   "execution_count": 13,
   "id": "8a19a9f5-cd02-4838-beb6-37fb26c3985b",
   "metadata": {},
   "outputs": [
    {
     "name": "stdout",
     "output_type": "stream",
     "text": [
      "[1, 2, 3, 4, 5, 6]\n"
     ]
    }
   ],
   "source": [
    "array1=[1,2,3]\n",
    "array2=[4,5,6]\n",
    "array3=array1+array2\n",
    "print(array3)"
   ]
  },
  {
   "cell_type": "code",
   "execution_count": 22,
   "id": "6d07b74a-d488-4359-98e8-1c1636f97959",
   "metadata": {},
   "outputs": [
    {
     "name": "stdout",
     "output_type": "stream",
     "text": [
      "This the sum of two lists [1, 2, 3, 4, 5, 6]\n",
      "This is the sum of the two arrays [5 7 9]\n",
      "This is the array [1 2 3]\n",
      "This is the list [1, 2, 3]\n"
     ]
    },
    {
     "data": {
      "text/plain": [
       "array([7, 9])"
      ]
     },
     "execution_count": 22,
     "metadata": {},
     "output_type": "execute_result"
    }
   ],
   "source": [
    "array1_=np.array(array1)\n",
    "array2_=np.array(array2)\n",
    "array3_=array1_+array2_\n",
    "print(\"This the sum of two lists\", array3)\n",
    "print(\"This is the sum of the two arrays\", array3_)\n",
    "print(\"This is the array\", array1_)\n",
    "print(\"This is the list\", array1)\n",
    "array3_>6\n",
    "array3_[array3_>6]"
   ]
  },
  {
   "cell_type": "code",
   "execution_count": 5,
   "id": "88bd2f82-add1-46b7-9bda-a7861ced112e",
   "metadata": {},
   "outputs": [
    {
     "name": "stdout",
     "output_type": "stream",
     "text": [
      "[[11 12]\n",
      " [13 14]\n",
      " [15 16]]\n"
     ]
    }
   ],
   "source": [
    "import numpy as np\n",
    "np_mat = np.array([[1, 2],\n",
    "                   [3, 4],\n",
    "                   [5, 6]])\n",
    "b=np_mat + np.array([10, 10])\n",
    "print(b)"
   ]
  },
  {
   "cell_type": "code",
   "execution_count": 1,
   "id": "7060230b",
   "metadata": {},
   "outputs": [
    {
     "name": "stdout",
     "output_type": "stream",
     "text": [
      "AA\n",
      "BA\n",
      "CA\n"
     ]
    }
   ],
   "source": [
    "for x in ['A','B','C']:\n",
    "\n",
    "  print(x+'A')"
   ]
  },
  {
   "cell_type": "code",
   "execution_count": 30,
   "id": "6b80971c",
   "metadata": {},
   "outputs": [
    {
     "name": "stdout",
     "output_type": "stream",
     "text": [
      "red 0\n",
      "yellow 1\n",
      "blue 2\n"
     ]
    }
   ],
   "source": [
    "squares = ['red', 'yellow', 'blue']\n",
    "for i, square in enumerate(squares):\n",
    "     print(square,\n",
    "     i)   "
   ]
  },
  {
   "cell_type": "code",
   "execution_count": 14,
   "id": "63b57b07",
   "metadata": {},
   "outputs": [
    {
     "name": "stdout",
     "output_type": "stream",
     "text": [
      "0 A\n",
      "1 B\n",
      "2 C\n"
     ]
    }
   ],
   "source": [
    "for i, x in enumerate(['A','B','C']):\n",
    "    print(i,x)"
   ]
  },
  {
   "cell_type": "code",
   "execution_count": 22,
   "id": "73de0e5f",
   "metadata": {},
   "outputs": [
    {
     "name": "stdout",
     "output_type": "stream",
     "text": [
      "red\n",
      "yellow\n",
      "blue\n"
     ]
    }
   ],
   "source": [
    "squares = ['red', 'yellow', 'blue']\n",
    "for square in squares:\n",
    "    print(square)"
   ]
  },
  {
   "cell_type": "code",
   "execution_count": 27,
   "id": "d5e60e7d",
   "metadata": {},
   "outputs": [
    {
     "name": "stdout",
     "output_type": "stream",
     "text": [
      "range(10, 15)\n"
     ]
    }
   ],
   "source": [
    "a=range(10,15)\n",
    "print(a)"
   ]
  },
  {
   "cell_type": "code",
   "execution_count": 31,
   "id": "87fb1de4",
   "metadata": {},
   "outputs": [
    {
     "name": "stdout",
     "output_type": "stream",
     "text": [
      "10\n",
      "9.5\n",
      "10\n",
      "8\n",
      "7.5\n",
      "5\n"
     ]
    }
   ],
   "source": [
    "PlayListRatings = [10, 9.5, 10, 8, 7.5, 5, 10, 10]\n",
    "i = 0\n",
    "Rating = PlayListRatings[0]\n",
    "while(i < len(PlayListRatings) and Rating >= 6):\n",
    "    Rating = PlayListRatings[i]\n",
    "    print(Rating)\n",
    "    i = i + 1"
   ]
  },
  {
   "cell_type": "code",
   "execution_count": 33,
   "id": "8cf811b9",
   "metadata": {},
   "outputs": [
    {
     "name": "stdout",
     "output_type": "stream",
     "text": [
      "0\n",
      "1\n",
      "2\n"
     ]
    }
   ],
   "source": [
    "for x in range(0,3):     \n",
    "  print(x)"
   ]
  },
  {
   "cell_type": "code",
   "execution_count": 1,
   "id": "029d5f1f",
   "metadata": {},
   "outputs": [
    {
     "data": {
      "text/plain": [
       "<function matplotlib.pyplot.show(close=None, block=None)>"
      ]
     },
     "execution_count": 1,
     "metadata": {},
     "output_type": "execute_result"
    },
    {
     "data": {
      "image/png": "[encoded data removed]",
      "text/plain": [
       "<Figure size 432x288 with 1 Axes>"
      ]
     },
     "metadata": {
      "needs_background": "light"
     },
     "output_type": "display_data"
    }
   ],
   "source": [
    "import matplotlib.pyplot as plt\n",
    "year = [1950,1970,1990,2010]\n",
    "pop = [2.519,3.692,5.263,6.979]\n",
    "plt.plot(year,pop)\n",
    "plt.show()"
   ]
  },
  {
   "cell_type": "code",
   "execution_count": 2,
   "id": "ea26e23e",
   "metadata": {},
   "outputs": [
    {
     "data": {
      "image/png": "[encoded data removed]",
      "text/plain": [
       "<Figure size 432x288 with 1 Axes>"
      ]
     },
     "metadata": {
      "needs_background": "light"
     },
     "output_type": "display_data"
    }
   ],
   "source": [
    "year = [1950,1970,1990,2010]\n",
    "pop = [2.519,3.692,5.263,6.979]\n",
    "plt.scatter(year,pop)\n",
    "plt.show()"
   ]
  },
  {
   "cell_type": "code",
   "execution_count": 6,
   "id": "7b4e9d51",
   "metadata": {},
   "outputs": [
    {
     "name": "stdout",
     "output_type": "stream",
     "text": [
      "[[  1.9   60.97]\n",
      " [  2.16  57.04]\n",
      " [  1.23  77.46]\n",
      " [  1.92  65.13]\n",
      " [  1.69  60.2 ]\n",
      " [  1.76  63.49]\n",
      " [  1.6   50.21]\n",
      " [  1.62  82.27]\n",
      " [  1.69  60.92]\n",
      " [  1.93  79.63]\n",
      " [  1.93  86.18]\n",
      " [  1.73  78.18]\n",
      " [  1.68  89.81]\n",
      " [  1.6   55.7 ]\n",
      " [  1.9   50.  ]\n",
      " [  2.24  58.71]\n",
      " [  2.1   85.29]\n",
      " [  2.07  64.93]\n",
      " [  1.67  43.91]\n",
      " [  1.58  64.17]\n",
      " [  2.02  60.21]\n",
      " [  1.84  35.42]\n",
      " [  1.67  60.49]\n",
      " [  1.99  65.44]\n",
      " [  1.66  36.18]\n",
      " [  1.74  80.33]\n",
      " [  1.57  61.11]\n",
      " [  1.77  77.97]\n",
      " [  2.29  77.29]\n",
      " [  1.71  76.31]\n",
      " [  1.69  49.98]\n",
      " [  1.92  85.42]\n",
      " [  1.69  71.11]\n",
      " [  1.67  72.79]\n",
      " [  2.13  43.2 ]\n",
      " [  1.91  65.36]\n",
      " [  1.77 100.77]\n",
      " [  1.7   64.49]\n",
      " [  1.72  69.26]\n",
      " [  1.48  99.48]\n",
      " [  1.83  76.94]\n",
      " [  1.9   49.13]\n",
      " [  1.67  46.66]\n",
      " [  1.83  77.91]\n",
      " [  1.66  31.25]\n",
      " [  1.15  66.29]\n",
      " [  1.63  72.83]\n",
      " [  1.98  57.  ]\n",
      " [  1.6  103.  ]\n",
      " [  2.02  63.42]\n",
      " [  1.97  85.49]\n",
      " [  1.89  75.37]\n",
      " [  1.72  35.11]\n",
      " [  1.45  82.82]\n",
      " [  1.48  49.18]\n",
      " [  1.67  54.68]\n",
      " [  1.77  64.02]\n",
      " [  1.86  58.67]\n",
      " [  1.83  50.68]\n",
      " [  1.66  58.  ]\n",
      " [  1.71  70.88]\n",
      " [  1.89  93.33]\n",
      " [  1.42  38.2 ]\n",
      " [  1.78  56.57]\n",
      " [  1.87  53.78]\n",
      " [  1.49  61.76]\n",
      " [  1.94  60.74]\n",
      " [  1.63  59.13]\n",
      " [  1.69  56.57]\n",
      " [  1.72  55.78]\n",
      " [  1.98  66.99]\n",
      " [  1.92  84.58]\n",
      " [  1.88  82.56]\n",
      " [  1.88  66.37]\n",
      " [  1.77  78.83]\n",
      " [  1.8   75.19]\n",
      " [  1.94  53.2 ]\n",
      " [  1.89  77.74]\n",
      " [  1.94  63.87]\n",
      " [  1.7   55.74]\n",
      " [  1.76  53.26]\n",
      " [  1.74  53.49]\n",
      " [  1.56  69.91]\n",
      " [  1.82  69.09]\n",
      " [  1.7   86.79]\n",
      " [  1.79  46.98]\n",
      " [  1.74  62.83]\n",
      " [  1.78 119.8 ]\n",
      " [  1.56  87.17]\n",
      " [  2.08  85.5 ]\n",
      " [  1.75  59.29]\n",
      " [  1.59  83.31]\n",
      " [  2.1   70.58]\n",
      " [  1.71  80.74]\n",
      " [  1.6   27.07]\n",
      " [  2.03  72.3 ]\n",
      " [  1.62  51.54]\n",
      " [  1.6   56.39]\n",
      " [  1.88  62.57]\n",
      " [  2.04  93.91]]\n"
     ]
    }
   ],
   "source": [
    "import numpy as np\n",
    "height = np.round(np.random.normal(1.75,0.2,100),2)\n",
    "weight = np.round(np.random.normal(65,15,100),2)\n",
    "np_city = np.column_stack((height,weight))\n",
    "print(np_city)"
   ]
  },
  {
   "cell_type": "code",
   "execution_count": 11,
   "id": "b6b74a05",
   "metadata": {},
   "outputs": [
    {
     "name": "stdout",
     "output_type": "stream",
     "text": [
      "1.778\n",
      "66.4959\n"
     ]
    }
   ],
   "source": [
    "mean_h=np.mean(np_city[:,0])\n",
    "print(mean_h)\n",
    "mean_w=np.mean(np_city[:,1])\n",
    "print(mean_w)"
   ]
  },
  {
   "cell_type": "code",
   "execution_count": 13,
   "id": "0ed7cf96",
   "metadata": {},
   "outputs": [
    {
     "name": "stdout",
     "output_type": "stream",
     "text": [
      "[3.14159265 7.06858347 8.04247719]\n"
     ]
    }
   ],
   "source": [
    "import numpy as np\n",
    "import math\n",
    "radius = np.array([1, 1.5, 1.6])\n",
    "area = math.pi * (radius ** 2)\n",
    "boolean = area < 20\n",
    "print(area[boolean])"
   ]
  },
  {
   "cell_type": "code",
   "execution_count": 14,
   "id": "768dbbc9",
   "metadata": {},
   "outputs": [
    {
     "name": "stdout",
     "output_type": "stream",
     "text": [
      "a1\n",
      "b1\n",
      "c1\n"
     ]
    }
   ],
   "source": [
    "def Print(A):\n",
    "    for a in A:\n",
    "        print(a+'1')\n",
    "        \n",
    "Print(['a','b','c'])"
   ]
  },
  {
   "cell_type": "code",
   "execution_count": 15,
   "id": "ce3b352d",
   "metadata": {},
   "outputs": [
    {
     "data": {
      "text/plain": [
       "1"
      ]
     },
     "execution_count": 15,
     "metadata": {},
     "output_type": "execute_result"
    }
   ],
   "source": [
    "len([sum([0,0,1])])"
   ]
  },
  {
   "cell_type": "code",
   "execution_count": 17,
   "id": "e20090df",
   "metadata": {},
   "outputs": [],
   "source": [
    "class Circle(object):\n",
    "    \n",
    "    # Constructor\n",
    "    def __init__(self, radius=3, color='blue'):\n",
    "        self.radius = radius\n",
    "        self.color = color \n",
    "    \n",
    "    # Method\n",
    "    def add_radius(self, r):\n",
    "        self.radius = self.radius + r\n",
    "        return(self.radius)\n",
    "    \n",
    "    # Method\n",
    "    def drawCircle(self):\n",
    "        plt.gca().add_patch(plt.Circle((0, 0), radius=self.radius, fc=self.color))\n",
    "        plt.axis('scaled')\n",
    "        plt.show()  "
   ]
  },
  {
   "cell_type": "code",
   "execution_count": 18,
   "id": "5371929b",
   "metadata": {},
   "outputs": [
    {
     "name": "stdout",
     "output_type": "stream",
     "text": [
      "Go \n",
      "Mike\n"
     ]
    }
   ],
   "source": [
    "x=\"Go\"\n",
    "\n",
    "if(x==\"Go\"):\n",
    "\n",
    "  print('Go ')\n",
    "\n",
    "else:\n",
    "\n",
    "  print('Stop')\n",
    "\n",
    "print('Mike')"
   ]
  },
  {
   "cell_type": "code",
   "execution_count": 19,
   "id": "cf201290",
   "metadata": {},
   "outputs": [
    {
     "data": {
      "text/plain": [
       "True"
      ]
     },
     "execution_count": 19,
     "metadata": {},
     "output_type": "execute_result"
    }
   ],
   "source": [
    "x=1\n",
    "x>-5"
   ]
  },
  {
   "cell_type": "code",
   "execution_count": 20,
   "id": "88ada596",
   "metadata": {},
   "outputs": [
    {
     "name": "stdout",
     "output_type": "stream",
     "text": [
      "0\n",
      "1\n"
     ]
    }
   ],
   "source": [
    "x=0\n",
    "while(x<2):\n",
    "    print(x)\n",
    "    x=x+1"
   ]
  },
  {
   "cell_type": "code",
   "execution_count": 21,
   "id": "480d2703",
   "metadata": {},
   "outputs": [
    {
     "name": "stdout",
     "output_type": "stream",
     "text": [
      "x= 1  y= 2\n"
     ]
    }
   ],
   "source": [
    "class Points(object):\n",
    "  def __init__(self,x,y):\n",
    "\n",
    "    self.x=x\n",
    "    self.y=y\n",
    "\n",
    "  def print_point(self):\n",
    "\n",
    "    print('x=',self.x,' y=',self.y)\n",
    "\n",
    "p1=Points(1,2)\n",
    "p1.print_point()"
   ]
  },
  {
   "cell_type": "code",
   "execution_count": 22,
   "id": "d8c24acf",
   "metadata": {},
   "outputs": [
    {
     "name": "stdout",
     "output_type": "stream",
     "text": [
      "0 AA\n",
      "1 BB\n",
      "2 CC\n"
     ]
    }
   ],
   "source": [
    "for i,x in enumerate(['A','B','C']):\n",
    "    print(i,2*x)"
   ]
  },
  {
   "cell_type": "code",
   "execution_count": 23,
   "id": "b8bce631",
   "metadata": {},
   "outputs": [
    {
     "name": "stdout",
     "output_type": "stream",
     "text": [
      "x= A  y= 2\n"
     ]
    }
   ],
   "source": [
    "class Points(object):\n",
    "\n",
    "  def __init__(self,x,y):\n",
    "\n",
    "    self.x=x\n",
    "    self.y=y\n",
    "\n",
    "  def print_point(self):\n",
    "\n",
    "    print('x=',self.x,' y=',self.y)\n",
    "\n",
    "p2=Points(1,2)\n",
    "\n",
    "p2.x='A'\n",
    "\n",
    "p2.print_point()"
   ]
  },
  {
   "cell_type": "code",
   "execution_count": 25,
   "id": "829a2617",
   "metadata": {},
   "outputs": [],
   "source": [
    "def add(a,b):\n",
    "    return a+b"
   ]
  },
  {
   "cell_type": "code",
   "execution_count": 26,
   "id": "808560b7",
   "metadata": {},
   "outputs": [
    {
     "data": {
      "text/plain": [
       "False"
      ]
     },
     "execution_count": 26,
     "metadata": {},
     "output_type": "execute_result"
    }
   ],
   "source": [
    "x=1\n",
    "x>5"
   ]
  },
  {
   "cell_type": "code",
   "execution_count": 27,
   "id": "332cbe06",
   "metadata": {},
   "outputs": [
    {
     "name": "stdout",
     "output_type": "stream",
     "text": [
      "5\n",
      "4\n",
      "3\n"
     ]
    }
   ],
   "source": [
    "x=5\n",
    "while(x!=2):\n",
    "  print(x)\n",
    "  x=x-1\n"
   ]
  },
  {
   "cell_type": "code",
   "execution_count": 28,
   "id": "c50f3936",
   "metadata": {},
   "outputs": [
    {
     "name": "stdout",
     "output_type": "stream",
     "text": [
      "x= A  y= B\n"
     ]
    }
   ],
   "source": [
    "class Points(object):\n",
    "  def __init__(self,x,y):\n",
    "\n",
    "    self.x=x\n",
    "    self.y=y\n",
    "\n",
    "  def print_point(self):\n",
    "\n",
    "    print('x=',self.x,' y=',self.y)\n",
    "\n",
    "p1=Points(\"A\",\"B\")\n",
    "p1.print_point()"
   ]
  },
  {
   "cell_type": "code",
   "execution_count": 29,
   "id": "2eab8084",
   "metadata": {},
   "outputs": [
    {
     "name": "stdout",
     "output_type": "stream",
     "text": [
      "1 A\n",
      "2 B\n",
      "3 C\n"
     ]
    }
   ],
   "source": [
    "for i,x in enumerate(['A','B','C']):\n",
    "    print(i+1,x)"
   ]
  },
  {
   "cell_type": "code",
   "execution_count": 30,
   "id": "d946beeb",
   "metadata": {},
   "outputs": [
    {
     "name": "stdout",
     "output_type": "stream",
     "text": [
      "x= 2  y= 2\n"
     ]
    }
   ],
   "source": [
    "class Points(object):\n",
    "  def __init__(self,x,y):\n",
    "\n",
    "    self.x=x\n",
    "    self.y=y\n",
    "\n",
    "  def print_point(self):\n",
    "\n",
    "    print('x=',self.x,' y=',self.y)\n",
    "\n",
    "p2=Points(1,2)\n",
    "\n",
    "p2.x=2\n",
    "\n",
    "p2.print_point()"
   ]
  },
  {
   "cell_type": "code",
   "execution_count": 31,
   "id": "5e9e89a4",
   "metadata": {},
   "outputs": [
    {
     "name": "stdout",
     "output_type": "stream",
     "text": [
      "101\n"
     ]
    }
   ],
   "source": [
    "a=1\n",
    "\n",
    "def do(x):\n",
    "    a=100\n",
    "    return(x+a)\n",
    "\n",
    "print(do(1))\n"
   ]
  },
  {
   "cell_type": "code",
   "execution_count": 46,
   "id": "a8e38160",
   "metadata": {},
   "outputs": [
    {
     "name": "stdout",
     "output_type": "stream",
     "text": [
      "0\n"
     ]
    },
    {
     "data": {
      "text/plain": [
       "23"
      ]
     },
     "execution_count": 46,
     "metadata": {},
     "output_type": "execute_result"
    }
   ],
   "source": [
    "pop=[23,45,34,56]\n",
    "country=['albania','armenia','algeria','austria']\n",
    "index_albania=country.index(\"albania\")\n",
    "print(index_albania)\n",
    "pop[index_albania]"
   ]
  },
  {
   "cell_type": "code",
   "execution_count": 1,
   "id": "8c4ef267",
   "metadata": {},
   "outputs": [
    {
     "name": "stdout",
     "output_type": "stream",
     "text": [
      "10\n"
     ]
    }
   ],
   "source": [
    "x = 4\n",
    "print(x % 7 + 6)\n"
   ]
  },
  {
   "cell_type": "code",
   "execution_count": 2,
   "id": "0897f950",
   "metadata": {},
   "outputs": [
    {
     "name": "stdout",
     "output_type": "stream",
     "text": [
      "4\n"
     ]
    }
   ],
   "source": [
    "x = 4\n",
    "print(x % 7 )"
   ]
  },
  {
   "cell_type": "code",
   "execution_count": 4,
   "id": "d2fdee15",
   "metadata": {},
   "outputs": [
    {
     "name": "stdout",
     "output_type": "stream",
     "text": [
      "[1.75 1.56 1.49]\n"
     ]
    }
   ],
   "source": [
    "import numpy as np\n",
    "np_heights = np.array([[1.75,1.65,1.8,1.5],[1.56,1.70,1.4,1.29],[1.49,1.68,1.3,1.8]])\n",
    "np.sort(np_heights[0])\n",
    "print((np_heights[:,0]))"
   ]
  },
  {
   "cell_type": "code",
   "execution_count": 5,
   "id": "3d8575c9",
   "metadata": {},
   "outputs": [
    {
     "name": "stdout",
     "output_type": "stream",
     "text": [
      "1\n"
     ]
    }
   ],
   "source": [
    "y=1\n",
    "bool(y)\n",
    "print(y)"
   ]
  },
  {
   "cell_type": "code",
   "execution_count": 7,
   "id": "9fcddc69",
   "metadata": {},
   "outputs": [
    {
     "name": "stdout",
     "output_type": "stream",
     "text": [
      "5\n"
     ]
    }
   ],
   "source": [
    "x = int(2.3)\n",
    "y = 1\n",
    "print(5x* bool(y))"
   ]
  },
  {
   "cell_type": "code",
   "execution_count": 4,
   "id": "ff8ad7fe",
   "metadata": {},
   "outputs": [
    {
     "name": "stdout",
     "output_type": "stream",
     "text": [
      "[[1 1]\n",
      " [1 1]]\n"
     ]
    }
   ],
   "source": [
    "import numpy as np\n",
    "X=np.array([[1,0],[0,1]])\n",
    "Y=np.array([[0,1],[1,0]])\n",
    "Z=X+Y\n",
    "print(Z)"
   ]
  },
  {
   "cell_type": "code",
   "execution_count": 5,
   "id": "ed956e77",
   "metadata": {},
   "outputs": [
    {
     "name": "stdout",
     "output_type": "stream",
     "text": [
      "[0 1]\n"
     ]
    }
   ],
   "source": [
    "X=np.array([[1,0,1],[2,2,2]]) \n",
    "out=X[0,1:3]\n",
    "print(out)\n"
   ]
  },
  {
   "cell_type": "code",
   "execution_count": 6,
   "id": "d3f7572d",
   "metadata": {},
   "outputs": [
    {
     "name": "stdout",
     "output_type": "stream",
     "text": [
      "[[2 2]\n",
      " [2 2]]\n"
     ]
    }
   ],
   "source": [
    "X=np.array([[1,0],[0,1]])\n",
    "Y=np.array([[2,2],[2,2]])\n",
    "Z=np.dot(X,Y)\n",
    "print(Z)"
   ]
  },
  {
   "cell_type": "code",
   "execution_count": 3,
   "id": "0bc38b0f",
   "metadata": {},
   "outputs": [
    {
     "name": "stdout",
     "output_type": "stream",
     "text": [
      "Hi\n",
      "Mike\n"
     ]
    }
   ],
   "source": [
    "x=1\n",
    "if(x!=1):\n",
    "    print('Hello') \n",
    "else: \n",
    "\n",
    "    print('Hi') \n",
    "\n",
    "print('Mike') "
   ]
  },
  {
   "cell_type": "code",
   "execution_count": 4,
   "id": "32f997b5",
   "metadata": {},
   "outputs": [
    {
     "data": {
      "text/plain": [
       "4"
      ]
     },
     "execution_count": 4,
     "metadata": {},
     "output_type": "execute_result"
    }
   ],
   "source": [
    "\n",
    "def add(x): \n",
    "    return(x+x) \n",
    "add(2)"
   ]
  },
  {
   "cell_type": "code",
   "execution_count": 5,
   "id": "37c797bb",
   "metadata": {},
   "outputs": [
    {
     "name": "stdout",
     "output_type": "stream",
     "text": [
      "4\n",
      "7\n",
      "10\n"
     ]
    }
   ],
   "source": [
    "A=[8,5,2] \n",
    "for a in A: \n",
    "    print(12-a) "
   ]
  },
  {
   "cell_type": "code",
   "execution_count": 6,
   "id": "0bd980c1",
   "metadata": {},
   "outputs": [
    {
     "name": "stdout",
     "output_type": "stream",
     "text": [
      "2\n"
     ]
    }
   ],
   "source": [
    "\n",
    "for i in range(1,5): \n",
    "    if (i==2): \n",
    "        print(i)"
   ]
  },
  {
   "cell_type": "code",
   "execution_count": null,
   "id": "656e73d7",
   "metadata": {},
   "outputs": [],
   "source": []
  }
 ],
 "metadata": {
  "kernelspec": {
   "display_name": "Python 3",
   "language": "python",
   "name": "python3"
  },
  "language_info": {
   "codemirror_mode": {
    "name": "ipython",
    "version": 3
   },
   "file_extension": ".py",
   "mimetype": "text/x-python",
   "name": "python",
   "nbconvert_exporter": "python",
   "pygments_lexer": "ipython3",
   "version": "3.8.8"
  }
 },
 "nbformat": 4,
 "nbformat_minor": 5
}
